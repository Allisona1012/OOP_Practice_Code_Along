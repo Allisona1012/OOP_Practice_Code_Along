{
 "cells": [
  {
   "cell_type": "markdown",
   "id": "8eae9ddf",
   "metadata": {},
   "source": [
    "https://www.youtube.com/watch?v=xTh-ln2XhgU"
   ]
  },
  {
   "cell_type": "markdown",
   "id": "844c422f",
   "metadata": {},
   "source": [
    "## Coding along from Youtube. Link above"
   ]
  },
  {
   "cell_type": "code",
   "execution_count": 1,
   "id": "e30ff1bd",
   "metadata": {},
   "outputs": [],
   "source": [
    "#Parent Class\n",
    "class User():\n",
    "    def __init__(self,name, age, gender ):\n",
    "        #these are properties of the object\n",
    "        self.name = name \n",
    "        self.age = age\n",
    "        self.gender = gender\n",
    "        \n",
    "    def show_details(self):\n",
    "        print('Personal Details')\n",
    "        print('*' *50)\n",
    "        print (f'{self.name} is {self.age} years old and identifies as a {self.gender}.')\n",
    "        \n",
    "    \n",
    "\n",
    "    "
   ]
  },
  {
   "cell_type": "code",
   "execution_count": 2,
   "id": "61ab456e",
   "metadata": {},
   "outputs": [],
   "source": [
    "Allison = User ('Allison', 26, 'female')"
   ]
  },
  {
   "cell_type": "code",
   "execution_count": 3,
   "id": "72be9520",
   "metadata": {},
   "outputs": [
    {
     "name": "stdout",
     "output_type": "stream",
     "text": [
      "Personal Details\n",
      "**************************************************\n",
      "Allison is 26 years old and identifies as a female.\n"
     ]
    }
   ],
   "source": [
    "Allison.show_details()"
   ]
  }
 ],
 "metadata": {
  "kernelspec": {
   "display_name": "Python 3 (ipykernel)",
   "language": "python",
   "name": "python3"
  },
  "language_info": {
   "codemirror_mode": {
    "name": "ipython",
    "version": 3
   },
   "file_extension": ".py",
   "mimetype": "text/x-python",
   "name": "python",
   "nbconvert_exporter": "python",
   "pygments_lexer": "ipython3",
   "version": "3.9.7"
  }
 },
 "nbformat": 4,
 "nbformat_minor": 5
}
