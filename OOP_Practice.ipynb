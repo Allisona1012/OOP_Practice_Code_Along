{
 "cells": [
  {
   "cell_type": "markdown",
   "id": "8a01f905",
   "metadata": {},
   "source": [
    "https://www.youtube.com/watch?v=xTh-ln2XhgU"
   ]
  },
  {
   "cell_type": "markdown",
   "id": "f8deb6cd",
   "metadata": {},
   "source": [
    "## Coding along from Youtube. Link above"
   ]
  },
  {
   "cell_type": "code",
   "execution_count": null,
   "id": "4ecbc4b0",
   "metadata": {},
   "outputs": [],
   "source": [
    "class User():\n",
    "    def __init__(self,name, age, gender ):\n",
    "        self.name = name \n",
    "        self.age = age\n",
    "        self.gender = gender"
   ]
  }
 ],
 "metadata": {
  "kernelspec": {
   "display_name": "Python 3 (ipykernel)",
   "language": "python",
   "name": "python3"
  },
  "language_info": {
   "codemirror_mode": {
    "name": "ipython",
    "version": 3
   },
   "file_extension": ".py",
   "mimetype": "text/x-python",
   "name": "python",
   "nbconvert_exporter": "python",
   "pygments_lexer": "ipython3",
   "version": "3.9.7"
  }
 },
 "nbformat": 4,
 "nbformat_minor": 5
}
